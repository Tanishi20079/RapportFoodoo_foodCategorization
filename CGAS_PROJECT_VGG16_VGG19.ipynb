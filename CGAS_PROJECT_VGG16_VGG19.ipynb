{
  "nbformat": 4,
  "nbformat_minor": 0,
  "metadata": {
    "accelerator": "GPU",
    "colab": {
      "name": "CGAS_PROJECT_VGG16_VGG19.ipynb",
      "provenance": [],
      "collapsed_sections": [],
      "machine_shape": "hm",
      "include_colab_link": true
    },
    "kernelspec": {
      "display_name": "Python 3",
      "name": "python3"
    }
  },
  "cells": [
    {
      "cell_type": "markdown",
      "metadata": {
        "id": "view-in-github",
        "colab_type": "text"
      },
      "source": [
        "<a href=\"https://colab.research.google.com/github/Tanishi20079/RapportFoodoo_foodCategorization/blob/main/CGAS_PROJECT_VGG16_VGG19.ipynb\" target=\"_parent\"><img src=\"https://colab.research.google.com/assets/colab-badge.svg\" alt=\"Open In Colab\"/></a>"
      ]
    },
    {
      "cell_type": "code",
      "metadata": {
        "id": "jaG_V9027o0n"
      },
      "source": [
        "########################################################################################################################\n",
        "#_____________________________________________________Import Section___________________________________________ \n",
        "########################################################################################################################\n",
        "import tensorflow as tf\n",
        "from tensorflow import keras\n",
        "from keras.models import Sequential\n",
        "from keras.layers import Dense, Flatten, Conv2D, MaxPooling2D, Dropout\n",
        "from tensorflow.keras import layers\n",
        "from sklearn.model_selection import train_test_split\n",
        "#from keras.utils import to_categorical\n",
        "import numpy as np\n",
        "import matplotlib.pyplot as plt\n",
        "plt.style.use('fivethirtyeight')\n",
        "import os\n",
        "import cv2\n",
        "import scipy.io as sio\n",
        "import ntpath\n",
        "from numpy import argmax\n",
        "from sklearn.preprocessing import LabelEncoder\n",
        "from sklearn.preprocessing import OneHotEncoder\n",
        "from tensorflow.keras.applications.inception_v3 import InceptionV3\n",
        "\n",
        "#importing other required libraries\n",
        "import numpy as np\n",
        "import pandas as pd\n",
        "from sklearn.utils.multiclass import unique_labels\n",
        "from tensorflow.keras import datasets, layers, models\n",
        "import matplotlib.pyplot as plt\n",
        "import matplotlib.image as mpimg\n",
        "import seaborn as sns\n",
        "import itertools\n",
        "from sklearn.model_selection import train_test_split\n",
        "from sklearn.metrics import confusion_matrix\n",
        "from keras import Sequential\n",
        "from keras.preprocessing.image import ImageDataGenerator\n",
        "from tensorflow.keras.optimizers import SGD,Adam\n",
        "from keras.callbacks import ReduceLROnPlateau\n",
        "from keras.layers import Flatten,Dense,BatchNormalization,Activation,Dropout\n",
        "from tensorflow.keras.utils import to_categorical\n",
        "from tensorflow.keras.utils import get_file, get_source_inputs\n",
        "import keras,os\n",
        "from keras.models import Sequential\n",
        "from keras.layers import Dense, Conv2D, MaxPool2D , Flatten\n",
        "from keras.models import Model"
      ],
      "execution_count": 6,
      "outputs": []
    },
    {
      "cell_type": "code",
      "metadata": {
        "colab": {
          "base_uri": "https://localhost:8080/"
        },
        "id": "fxkFmeqIg0S0",
        "outputId": "a189b5a8-a953-4376-fabf-0ebcff22b56c"
      },
      "source": [
        "from google.colab import drive\n",
        "drive.mount('/content/drive')"
      ],
      "execution_count": 7,
      "outputs": [
        {
          "output_type": "stream",
          "name": "stdout",
          "text": [
            "Drive already mounted at /content/drive; to attempt to forcibly remount, call drive.mount(\"/content/drive\", force_remount=True).\n"
          ]
        }
      ]
    },
    {
      "cell_type": "code",
      "metadata": {
        "id": "GlhVE-2Cg-1w"
      },
      "source": [
        "data = sio.loadmat('/content/drive/MyDrive/SEM3/CGAS/Project/CGAS_FoodCategorization/train_data25.mat')"
      ],
      "execution_count": 8,
      "outputs": []
    },
    {
      "cell_type": "code",
      "metadata": {
        "colab": {
          "base_uri": "https://localhost:8080/"
        },
        "id": "hWy1P04UhBwi",
        "outputId": "fd1d3f44-a7f9-4694-a421-3e59114b4bfe"
      },
      "source": [
        "X = data['X_train']\n",
        "y = data['y_train']\n",
        "len(X)"
      ],
      "execution_count": 9,
      "outputs": [
        {
          "output_type": "execute_result",
          "data": {
            "text/plain": [
              "20389"
            ]
          },
          "metadata": {},
          "execution_count": 9
        }
      ]
    },
    {
      "cell_type": "code",
      "metadata": {
        "id": "IhEjIZC5hQtH"
      },
      "source": [
        "X_train, X_test, y_train, y_test = train_test_split(X, y, test_size=0.2)"
      ],
      "execution_count": 10,
      "outputs": []
    },
    {
      "cell_type": "code",
      "metadata": {
        "id": "XXvtcBhshUIX"
      },
      "source": [
        "train=X_train\n",
        "test=X_test"
      ],
      "execution_count": 11,
      "outputs": []
    },
    {
      "cell_type": "code",
      "metadata": {
        "colab": {
          "base_uri": "https://localhost:8080/"
        },
        "id": "ZyiZxfrdhXIC",
        "outputId": "670d1517-671c-4171-afa3-8ee5ff6d9895"
      },
      "source": [
        "np.unique(y_train)"
      ],
      "execution_count": 12,
      "outputs": [
        {
          "output_type": "execute_result",
          "data": {
            "text/plain": [
              "array(['chocolate ', 'cup       ', 'donuts    ', 'dumplings ',\n",
              "       'french    ', 'fried     ', 'garlic    ', 'gnocchi   ',\n",
              "       'grilled   ', 'hamburger ', 'hot       ', 'ice       ',\n",
              "       'macarons  ', 'mussels   ', 'nachos    ', 'pancakes  ',\n",
              "       'pizza     ', 'red       ', 'samosa    ', 'spring    ',\n",
              "       'strawberry', 'sushi     ', 'waffles   '], dtype='<U10')"
            ]
          },
          "metadata": {},
          "execution_count": 12
        }
      ]
    },
    {
      "cell_type": "code",
      "metadata": {
        "colab": {
          "base_uri": "https://localhost:8080/"
        },
        "id": "obPZXloBhb8j",
        "outputId": "acccacb9-353c-4ce5-e303-8e8896466dfc"
      },
      "source": [
        "def remove_space(string):\n",
        "    return string.replace(\" \", \"\")\n",
        "\n",
        "train_labels = []\n",
        "for y in y_train:\n",
        "  train_labels.append(remove_space(y))\n",
        "y_train = train_labels\n",
        "\n",
        "np.unique(y_train)"
      ],
      "execution_count": 13,
      "outputs": [
        {
          "output_type": "execute_result",
          "data": {
            "text/plain": [
              "array(['chocolate', 'cup', 'donuts', 'dumplings', 'french', 'fried',\n",
              "       'garlic', 'gnocchi', 'grilled', 'hamburger', 'hot', 'ice',\n",
              "       'macarons', 'mussels', 'nachos', 'pancakes', 'pizza', 'red',\n",
              "       'samosa', 'spring', 'strawberry', 'sushi', 'waffles'], dtype='<U10')"
            ]
          },
          "metadata": {},
          "execution_count": 13
        }
      ]
    },
    {
      "cell_type": "code",
      "metadata": {
        "colab": {
          "base_uri": "https://localhost:8080/"
        },
        "id": "YiOPUYhChlJd",
        "outputId": "dd1290cd-e9db-4810-9e9b-fc6b07cddf78"
      },
      "source": [
        "freq_train = {}\n",
        "for y in y_train:\n",
        "  if y not in freq_train:\n",
        "    freq_train[y] = 1\n",
        "\n",
        "  else:\n",
        "    freq_train[y] += 1\n",
        "freq_train\n",
        "len(freq_train)"
      ],
      "execution_count": 14,
      "outputs": [
        {
          "output_type": "execute_result",
          "data": {
            "text/plain": [
              "23"
            ]
          },
          "metadata": {},
          "execution_count": 14
        }
      ]
    },
    {
      "cell_type": "code",
      "metadata": {
        "colab": {
          "base_uri": "https://localhost:8080/"
        },
        "id": "khG3WfU5hpx4",
        "outputId": "bd23d5d9-525f-4b07-b727-7d8983ae1897"
      },
      "source": [
        "test_labels = []\n",
        "for y in y_test:\n",
        "  test_labels.append(remove_space(y))\n",
        "y_test = test_labels\n",
        "\n",
        "np.unique(y_test)"
      ],
      "execution_count": 15,
      "outputs": [
        {
          "output_type": "execute_result",
          "data": {
            "text/plain": [
              "array(['chocolate', 'cup', 'donuts', 'dumplings', 'french', 'fried',\n",
              "       'garlic', 'gnocchi', 'grilled', 'hamburger', 'hot', 'ice',\n",
              "       'macarons', 'mussels', 'nachos', 'pancakes', 'pizza', 'red',\n",
              "       'samosa', 'spring', 'strawberry', 'sushi', 'waffles'], dtype='<U10')"
            ]
          },
          "metadata": {},
          "execution_count": 15
        }
      ]
    },
    {
      "cell_type": "code",
      "metadata": {
        "colab": {
          "base_uri": "https://localhost:8080/"
        },
        "id": "ZUIZZP2qhuBF",
        "outputId": "4383d0af-5a9e-4595-943f-d966fb1aee3b"
      },
      "source": [
        "freq_test = {}\n",
        "for y in y_test:\n",
        "  if y not in freq_test:\n",
        "    freq_test[y] = 1\n",
        "\n",
        "  else:\n",
        "    freq_test[y] += 1\n",
        "freq_test"
      ],
      "execution_count": 16,
      "outputs": [
        {
          "output_type": "execute_result",
          "data": {
            "text/plain": [
              "{'chocolate': 342,\n",
              " 'cup': 206,\n",
              " 'donuts': 139,\n",
              " 'dumplings': 195,\n",
              " 'french': 354,\n",
              " 'fried': 171,\n",
              " 'garlic': 154,\n",
              " 'gnocchi': 184,\n",
              " 'grilled': 194,\n",
              " 'hamburger': 143,\n",
              " 'hot': 172,\n",
              " 'ice': 173,\n",
              " 'macarons': 181,\n",
              " 'mussels': 128,\n",
              " 'nachos': 163,\n",
              " 'pancakes': 156,\n",
              " 'pizza': 143,\n",
              " 'red': 152,\n",
              " 'samosa': 173,\n",
              " 'spring': 113,\n",
              " 'strawberry': 161,\n",
              " 'sushi': 133,\n",
              " 'waffles': 148}"
            ]
          },
          "metadata": {},
          "execution_count": 16
        }
      ]
    },
    {
      "cell_type": "code",
      "metadata": {
        "colab": {
          "base_uri": "https://localhost:8080/"
        },
        "id": "03y5vB-dhwWL",
        "outputId": "efde0d30-255f-4e1c-cd53-73981057a971"
      },
      "source": [
        "label_encoder = LabelEncoder()\n",
        "int_encoded = label_encoder.fit_transform(y_train)\n",
        "test_int_encoded = label_encoder.fit_transform(y_test)\n",
        "int_encoded"
      ],
      "execution_count": 17,
      "outputs": [
        {
          "output_type": "execute_result",
          "data": {
            "text/plain": [
              "array([ 7,  5, 13, ...,  5,  0, 20])"
            ]
          },
          "metadata": {},
          "execution_count": 17
        }
      ]
    },
    {
      "cell_type": "code",
      "metadata": {
        "colab": {
          "base_uri": "https://localhost:8080/"
        },
        "id": "msbq9Ms4hyIj",
        "outputId": "d275fe47-f376-4e59-b30f-071c626c2438"
      },
      "source": [
        "onehot_encoder = OneHotEncoder(sparse=False)\n",
        "int_encoded = int_encoded.reshape(len(int_encoded), 1)\n",
        "train_encoded = onehot_encoder.fit_transform(int_encoded)\n",
        "print(train_encoded)\n",
        "print(\"test encoded: \")\n",
        "test_int_encoded = test_int_encoded.reshape(len(test_int_encoded), 1)\n",
        "test_encoded = onehot_encoder.fit_transform(test_int_encoded)\n",
        "print(test_encoded)\n",
        "\n",
        "print(len(train_encoded))\n",
        "print(len(test_encoded))"
      ],
      "execution_count": 18,
      "outputs": [
        {
          "output_type": "stream",
          "name": "stdout",
          "text": [
            "[[0. 0. 0. ... 0. 0. 0.]\n",
            " [0. 0. 0. ... 0. 0. 0.]\n",
            " [0. 0. 0. ... 0. 0. 0.]\n",
            " ...\n",
            " [0. 0. 0. ... 0. 0. 0.]\n",
            " [1. 0. 0. ... 0. 0. 0.]\n",
            " [0. 0. 0. ... 1. 0. 0.]]\n",
            "test encoded: \n",
            "[[0. 0. 0. ... 0. 0. 0.]\n",
            " [0. 0. 0. ... 0. 0. 0.]\n",
            " [0. 0. 0. ... 0. 0. 0.]\n",
            " ...\n",
            " [0. 0. 0. ... 0. 0. 0.]\n",
            " [0. 0. 0. ... 0. 0. 0.]\n",
            " [0. 0. 0. ... 0. 0. 0.]]\n",
            "16311\n",
            "4078\n"
          ]
        }
      ]
    },
    {
      "cell_type": "code",
      "metadata": {
        "id": "MWlmbcjSh4fZ"
      },
      "source": [
        "#import required libraries - we do need the models, flatten, dense, input layers \n",
        "import numpy as np \n",
        "import pandas as pd\n",
        "from glob import glob \n",
        "import matplotlib.pyplot as plt\n",
        "from tensorflow.keras.layers import Input, Lambda, Dense, Flatten\n",
        "from tensorflow.keras.models import Model\n",
        "from tensorflow.keras.applications.vgg16 import VGG16\n",
        "from tensorflow.keras.applications.vgg19 import VGG19\n",
        "from tensorflow.keras.preprocessing import image\n",
        "from tensorflow.keras.preprocessing.image import ImageDataGenerator\n",
        "from tensorflow.keras.models import Sequential"
      ],
      "execution_count": 19,
      "outputs": []
    },
    {
      "cell_type": "code",
      "metadata": {
        "id": "_cSZPICuh5gd"
      },
      "source": [
        "IMAGE_SIZE = [192, 192] #Default image size for VGG16 "
      ],
      "execution_count": 20,
      "outputs": []
    },
    {
      "cell_type": "code",
      "metadata": {
        "colab": {
          "base_uri": "https://localhost:8080/"
        },
        "id": "OmHjUPswh72c",
        "outputId": "c4bd789c-254b-457f-b469-e1339b59ae03"
      },
      "source": [
        "# Use this line for VGG19 network. Create a VGG19 model, and removing the last layer that is classifying 1000 images. This will be replaced with images classes we have. \n",
        "vgg_19 = VGG19(input_shape=IMAGE_SIZE + [3], weights='imagenet', include_top=False) \n",
        "\n",
        "# This sets the base that the layers are not trainable. If we'd want to train the layers with custom data, these two lines can be ommitted. \n",
        "for layer in vgg_19.layers:\n",
        "  layer.trainable = False\n",
        "\n",
        "x = Flatten()(vgg_19.output) #Output obtained on vgg16 is now flattened. \n",
        "prediction = Dense(len(freq_train), activation='softmax')(x) # We have 5 classes, and so, the prediction is being done on len(folders) - 5 classes\n",
        "\n",
        "#Creating model object \n",
        "model = Model(inputs=vgg_19.input, outputs=prediction)\n",
        "\n",
        "model.summary()"
      ],
      "execution_count": 21,
      "outputs": [
        {
          "output_type": "stream",
          "name": "stdout",
          "text": [
            "Downloading data from https://storage.googleapis.com/tensorflow/keras-applications/vgg19/vgg19_weights_tf_dim_ordering_tf_kernels_notop.h5\n",
            "80142336/80134624 [==============================] - 1s 0us/step\n",
            "80150528/80134624 [==============================] - 1s 0us/step\n",
            "Model: \"model\"\n",
            "_________________________________________________________________\n",
            " Layer (type)                Output Shape              Param #   \n",
            "=================================================================\n",
            " input_1 (InputLayer)        [(None, 192, 192, 3)]     0         \n",
            "                                                                 \n",
            " block1_conv1 (Conv2D)       (None, 192, 192, 64)      1792      \n",
            "                                                                 \n",
            " block1_conv2 (Conv2D)       (None, 192, 192, 64)      36928     \n",
            "                                                                 \n",
            " block1_pool (MaxPooling2D)  (None, 96, 96, 64)        0         \n",
            "                                                                 \n",
            " block2_conv1 (Conv2D)       (None, 96, 96, 128)       73856     \n",
            "                                                                 \n",
            " block2_conv2 (Conv2D)       (None, 96, 96, 128)       147584    \n",
            "                                                                 \n",
            " block2_pool (MaxPooling2D)  (None, 48, 48, 128)       0         \n",
            "                                                                 \n",
            " block3_conv1 (Conv2D)       (None, 48, 48, 256)       295168    \n",
            "                                                                 \n",
            " block3_conv2 (Conv2D)       (None, 48, 48, 256)       590080    \n",
            "                                                                 \n",
            " block3_conv3 (Conv2D)       (None, 48, 48, 256)       590080    \n",
            "                                                                 \n",
            " block3_conv4 (Conv2D)       (None, 48, 48, 256)       590080    \n",
            "                                                                 \n",
            " block3_pool (MaxPooling2D)  (None, 24, 24, 256)       0         \n",
            "                                                                 \n",
            " block4_conv1 (Conv2D)       (None, 24, 24, 512)       1180160   \n",
            "                                                                 \n",
            " block4_conv2 (Conv2D)       (None, 24, 24, 512)       2359808   \n",
            "                                                                 \n",
            " block4_conv3 (Conv2D)       (None, 24, 24, 512)       2359808   \n",
            "                                                                 \n",
            " block4_conv4 (Conv2D)       (None, 24, 24, 512)       2359808   \n",
            "                                                                 \n",
            " block4_pool (MaxPooling2D)  (None, 12, 12, 512)       0         \n",
            "                                                                 \n",
            " block5_conv1 (Conv2D)       (None, 12, 12, 512)       2359808   \n",
            "                                                                 \n",
            " block5_conv2 (Conv2D)       (None, 12, 12, 512)       2359808   \n",
            "                                                                 \n",
            " block5_conv3 (Conv2D)       (None, 12, 12, 512)       2359808   \n",
            "                                                                 \n",
            " block5_conv4 (Conv2D)       (None, 12, 12, 512)       2359808   \n",
            "                                                                 \n",
            " block5_pool (MaxPooling2D)  (None, 6, 6, 512)         0         \n",
            "                                                                 \n",
            " flatten (Flatten)           (None, 18432)             0         \n",
            "                                                                 \n",
            " dense (Dense)               (None, 23)                423959    \n",
            "                                                                 \n",
            "=================================================================\n",
            "Total params: 20,448,343\n",
            "Trainable params: 423,959\n",
            "Non-trainable params: 20,024,384\n",
            "_________________________________________________________________\n"
          ]
        }
      ]
    },
    {
      "cell_type": "code",
      "metadata": {
        "colab": {
          "base_uri": "https://localhost:8080/"
        },
        "id": "WFi2kTd_h_mA",
        "outputId": "86008c1a-ee94-47e7-e80d-89456150583a"
      },
      "source": [
        "from keras.callbacks import ModelCheckpoint, EarlyStopping\n",
        "checkpoint = ModelCheckpoint(filepath='vgg_19_best_model', save_best_only=True, save_weights_only=True, monitor='val_accuracy', verbose=1,mode = 'auto', period = 1)\n",
        "early = EarlyStopping(monitor='val_accuracy', min_delta=0, patience=40, verbose=1, mode='auto')"
      ],
      "execution_count": 22,
      "outputs": [
        {
          "output_type": "stream",
          "name": "stdout",
          "text": [
            "WARNING:tensorflow:`period` argument is deprecated. Please use `save_freq` to specify the frequency in number of batches seen.\n"
          ]
        }
      ]
    },
    {
      "cell_type": "code",
      "metadata": {
        "colab": {
          "base_uri": "https://localhost:8080/"
        },
        "id": "SoOsnA-3iF6R",
        "outputId": "89d8ab8c-bc7d-4d20-a67b-8052aabc043f"
      },
      "source": [
        "#Compile the model \n",
        "model.compile(loss='categorical_crossentropy', optimizer='adam', metrics=['accuracy']) \n",
        "hist = model.fit(X_train, train_encoded, validation_data=(X_test, test_encoded), epochs=10, batch_size=32, verbose=1, callbacks=[checkpoint,early])"
      ],
      "execution_count": 23,
      "outputs": [
        {
          "output_type": "stream",
          "name": "stdout",
          "text": [
            "Epoch 1/10\n",
            "510/510 [==============================] - ETA: 0s - loss: 22.3407 - accuracy: 0.5318\n",
            "Epoch 00001: val_accuracy improved from -inf to 0.61648, saving model to vgg_19_best_model\n",
            "510/510 [==============================] - 165s 292ms/step - loss: 22.3407 - accuracy: 0.5318 - val_loss: 21.7660 - val_accuracy: 0.6165\n",
            "Epoch 2/10\n",
            "510/510 [==============================] - ETA: 0s - loss: 7.0504 - accuracy: 0.8184\n",
            "Epoch 00002: val_accuracy improved from 0.61648 to 0.62702, saving model to vgg_19_best_model\n",
            "510/510 [==============================] - 138s 270ms/step - loss: 7.0504 - accuracy: 0.8184 - val_loss: 25.1021 - val_accuracy: 0.6270\n",
            "Epoch 3/10\n",
            "510/510 [==============================] - ETA: 0s - loss: 4.0329 - accuracy: 0.8848\n",
            "Epoch 00003: val_accuracy improved from 0.62702 to 0.63340, saving model to vgg_19_best_model\n",
            "510/510 [==============================] - 138s 270ms/step - loss: 4.0329 - accuracy: 0.8848 - val_loss: 27.8823 - val_accuracy: 0.6334\n",
            "Epoch 4/10\n",
            "510/510 [==============================] - ETA: 0s - loss: 3.0853 - accuracy: 0.9130\n",
            "Epoch 00004: val_accuracy did not improve from 0.63340\n",
            "510/510 [==============================] - 136s 267ms/step - loss: 3.0853 - accuracy: 0.9130 - val_loss: 34.5771 - val_accuracy: 0.6238\n",
            "Epoch 5/10\n",
            "510/510 [==============================] - ETA: 0s - loss: 2.6942 - accuracy: 0.9232\n",
            "Epoch 00005: val_accuracy improved from 0.63340 to 0.64247, saving model to vgg_19_best_model\n",
            "510/510 [==============================] - 137s 268ms/step - loss: 2.6942 - accuracy: 0.9232 - val_loss: 33.7750 - val_accuracy: 0.6425\n",
            "Epoch 6/10\n",
            "510/510 [==============================] - ETA: 0s - loss: 2.1685 - accuracy: 0.9408\n",
            "Epoch 00006: val_accuracy did not improve from 0.64247\n",
            "510/510 [==============================] - 137s 268ms/step - loss: 2.1685 - accuracy: 0.9408 - val_loss: 39.9166 - val_accuracy: 0.6309\n",
            "Epoch 7/10\n",
            "510/510 [==============================] - ETA: 0s - loss: 1.9983 - accuracy: 0.9452\n",
            "Epoch 00007: val_accuracy improved from 0.64247 to 0.64272, saving model to vgg_19_best_model\n",
            "510/510 [==============================] - 137s 268ms/step - loss: 1.9983 - accuracy: 0.9452 - val_loss: 40.8170 - val_accuracy: 0.6427\n",
            "Epoch 8/10\n",
            "510/510 [==============================] - ETA: 0s - loss: 2.2367 - accuracy: 0.9467\n",
            "Epoch 00008: val_accuracy improved from 0.64272 to 0.64370, saving model to vgg_19_best_model\n",
            "510/510 [==============================] - 137s 268ms/step - loss: 2.2367 - accuracy: 0.9467 - val_loss: 42.9741 - val_accuracy: 0.6437\n",
            "Epoch 9/10\n",
            "510/510 [==============================] - ETA: 0s - loss: 1.8101 - accuracy: 0.9563\n",
            "Epoch 00009: val_accuracy did not improve from 0.64370\n",
            "510/510 [==============================] - 136s 268ms/step - loss: 1.8101 - accuracy: 0.9563 - val_loss: 48.1442 - val_accuracy: 0.6378\n",
            "Epoch 10/10\n",
            "510/510 [==============================] - ETA: 0s - loss: 1.7162 - accuracy: 0.9618\n",
            "Epoch 00010: val_accuracy did not improve from 0.64370\n",
            "510/510 [==============================] - 136s 268ms/step - loss: 1.7162 - accuracy: 0.9618 - val_loss: 52.7193 - val_accuracy: 0.6373\n"
          ]
        }
      ]
    },
    {
      "cell_type": "code",
      "metadata": {
        "colab": {
          "base_uri": "https://localhost:8080/"
        },
        "id": "ficJIyEIiKbD",
        "outputId": "fff94882-3edd-468a-d39e-3266e7eb51e7"
      },
      "source": [
        "# ########################################################################################################################\n",
        "# #____________________________________________________________Saving The Model___________________________________#\n",
        "# ########################################################################################################################\n",
        "\n",
        "model.save(\"/content/drive/MyDrive/SEM3/CGAS/Project/CGAS_FoodCategorization/vgg19_model.pb\")\n",
        "accuracy = model.evaluate(x=X_test,y=test_encoded,batch_size=256)\n",
        "print(\"Test loss:\",accuracy[0])\n",
        "print(\"Test accuracy: \",accuracy[1])"
      ],
      "execution_count": 24,
      "outputs": [
        {
          "output_type": "stream",
          "name": "stdout",
          "text": [
            "INFO:tensorflow:Assets written to: /content/drive/MyDrive/SEM3/CGAS/Project/CGAS_FoodCategorization/vgg19_model.pb/assets\n",
            "16/16 [==============================] - 116s 5s/step - loss: 52.7193 - accuracy: 0.6373\n",
            "Test loss: 52.719268798828125\n",
            "Test accuracy:  0.637322187423706\n"
          ]
        }
      ]
    },
    {
      "cell_type": "code",
      "metadata": {
        "colab": {
          "base_uri": "https://localhost:8080/",
          "height": 325
        },
        "id": "Z5FXF5lTj2fo",
        "outputId": "adf419fb-2cb0-4b9e-e9a0-ea76abb85560"
      },
      "source": [
        "########################################################################################################################\n",
        "#____________________________________________________________Accuracy Plot Of the MOdel___________________________________#\n",
        "########################################################################################################################\n",
        "\n",
        "plt.plot(hist.history['accuracy'])\n",
        "plt.plot(hist.history['val_accuracy'])\n",
        "plt.title('model accuracy')\n",
        "plt.ylabel('accuracy')\n",
        "plt.xlabel('epoch')\n",
        "plt.legend(['train', 'test'], loc='upper left')\n",
        "plt.show()"
      ],
      "execution_count": 26,
      "outputs": [
        {
          "output_type": "display_data",
          "data": {
            "image/png": "[encoded data removed]",
            "text/plain": [
              "<Figure size 432x288 with 1 Axes>"
            ]
          },
          "metadata": {}
        }
      ]
    },
    {
      "cell_type": "code",
      "metadata": {
        "colab": {
          "base_uri": "https://localhost:8080/",
          "height": 325
        },
        "id": "SP5g0tZzj3Xf",
        "outputId": "97c8a662-fde6-4c66-df80-ca0dd58f7f14"
      },
      "source": [
        "########################################################################################################################\n",
        "#____________________________________________________________Loss Plot Of the Model___________________________________#\n",
        "########################################################################################################################\n",
        "\n",
        "plt.plot(hist.history['loss'])\n",
        "plt.plot(hist.history['val_loss'])\n",
        "plt.title('model loss')\n",
        "plt.ylabel('loss')\n",
        "plt.xlabel('epoch')\n",
        "plt.legend(['train', 'test'], loc='upper left')\n",
        "plt.show()"
      ],
      "execution_count": 28,
      "outputs": [
        {
          "output_type": "display_data",
          "data": {
            "image/png": "[encoded data removed]",
            "text/plain": [
              "<Figure size 432x288 with 1 Axes>"
            ]
          },
          "metadata": {}
        }
      ]
    },
    {
      "cell_type": "markdown",
      "metadata": {
        "id": "yYbPzI48paLv"
      },
      "source": [
        "**VGG-16**"
      ]
    },
    {
      "cell_type": "code",
      "metadata": {
        "colab": {
          "base_uri": "https://localhost:8080/"
        },
        "id": "aJoKVyq2pW9p",
        "outputId": "6c496c08-ed00-4f92-c7a2-61a648e68761"
      },
      "source": [
        "# Create a VGG16 model, and removing the last layer that is classifying 1000 images. This will be replaced with images classes we have. \n",
        "vgg = VGG16(input_shape=IMAGE_SIZE + [3], weights='imagenet', include_top=False) #Training with Imagenet weights\n",
        "\n",
        "\n",
        "# This sets the base that the layers are not trainable. If we'd want to train the layers with custom data, these two lines can be ommitted. \n",
        "for layer in vgg.layers:\n",
        "  layer.trainable = False\n",
        "\n",
        "x = Flatten()(vgg.output) #Output obtained on vgg16 is now flattened. \n",
        "prediction = Dense(len(freq_train), activation='softmax')(x) # We have 5 classes, and so, the prediction is being done on len(folders) - 5 classes\n",
        "\n",
        "#Creating model object \n",
        "model = Model(inputs=vgg.input, outputs=prediction)\n",
        "\n",
        "model.summary()"
      ],
      "execution_count": 29,
      "outputs": [
        {
          "output_type": "stream",
          "name": "stdout",
          "text": [
            "Downloading data from https://storage.googleapis.com/tensorflow/keras-applications/vgg16/vgg16_weights_tf_dim_ordering_tf_kernels_notop.h5\n",
            "58892288/58889256 [==============================] - 1s 0us/step\n",
            "58900480/58889256 [==============================] - 1s 0us/step\n",
            "Model: \"model_1\"\n",
            "_________________________________________________________________\n",
            " Layer (type)                Output Shape              Param #   \n",
            "=================================================================\n",
            " input_2 (InputLayer)        [(None, 192, 192, 3)]     0         \n",
            "                                                                 \n",
            " block1_conv1 (Conv2D)       (None, 192, 192, 64)      1792      \n",
            "                                                                 \n",
            " block1_conv2 (Conv2D)       (None, 192, 192, 64)      36928     \n",
            "                                                                 \n",
            " block1_pool (MaxPooling2D)  (None, 96, 96, 64)        0         \n",
            "                                                                 \n",
            " block2_conv1 (Conv2D)       (None, 96, 96, 128)       73856     \n",
            "                                                                 \n",
            " block2_conv2 (Conv2D)       (None, 96, 96, 128)       147584    \n",
            "                                                                 \n",
            " block2_pool (MaxPooling2D)  (None, 48, 48, 128)       0         \n",
            "                                                                 \n",
            " block3_conv1 (Conv2D)       (None, 48, 48, 256)       295168    \n",
            "                                                                 \n",
            " block3_conv2 (Conv2D)       (None, 48, 48, 256)       590080    \n",
            "                                                                 \n",
            " block3_conv3 (Conv2D)       (None, 48, 48, 256)       590080    \n",
            "                                                                 \n",
            " block3_pool (MaxPooling2D)  (None, 24, 24, 256)       0         \n",
            "                                                                 \n",
            " block4_conv1 (Conv2D)       (None, 24, 24, 512)       1180160   \n",
            "                                                                 \n",
            " block4_conv2 (Conv2D)       (None, 24, 24, 512)       2359808   \n",
            "                                                                 \n",
            " block4_conv3 (Conv2D)       (None, 24, 24, 512)       2359808   \n",
            "                                                                 \n",
            " block4_pool (MaxPooling2D)  (None, 12, 12, 512)       0         \n",
            "                                                                 \n",
            " block5_conv1 (Conv2D)       (None, 12, 12, 512)       2359808   \n",
            "                                                                 \n",
            " block5_conv2 (Conv2D)       (None, 12, 12, 512)       2359808   \n",
            "                                                                 \n",
            " block5_conv3 (Conv2D)       (None, 12, 12, 512)       2359808   \n",
            "                                                                 \n",
            " block5_pool (MaxPooling2D)  (None, 6, 6, 512)         0         \n",
            "                                                                 \n",
            " flatten_1 (Flatten)         (None, 18432)             0         \n",
            "                                                                 \n",
            " dense_1 (Dense)             (None, 23)                423959    \n",
            "                                                                 \n",
            "=================================================================\n",
            "Total params: 15,138,647\n",
            "Trainable params: 423,959\n",
            "Non-trainable params: 14,714,688\n",
            "_________________________________________________________________\n"
          ]
        }
      ]
    },
    {
      "cell_type": "code",
      "metadata": {
        "colab": {
          "base_uri": "https://localhost:8080/"
        },
        "id": "LnK6th6Cp0Hu",
        "outputId": "390ee560-638f-4ad4-9be1-da80feb0de44"
      },
      "source": [
        "checkpoint = ModelCheckpoint(\"vgg16_1.h5\", monitor='val_accuracy', verbose=1, save_best_only=True, save_weights_only=False, mode='auto', period=1)\n",
        "early = EarlyStopping(monitor='val_accuracy', min_delta=0, patience=40, verbose=1, mode='auto')"
      ],
      "execution_count": 30,
      "outputs": [
        {
          "output_type": "stream",
          "name": "stdout",
          "text": [
            "WARNING:tensorflow:`period` argument is deprecated. Please use `save_freq` to specify the frequency in number of batches seen.\n"
          ]
        }
      ]
    },
    {
      "cell_type": "code",
      "metadata": {
        "colab": {
          "base_uri": "https://localhost:8080/"
        },
        "id": "d9L3aOanp4uW",
        "outputId": "4a2f2f68-58e9-4d4e-cb11-0fc63c24f4b6"
      },
      "source": [
        "#Compile the model \n",
        "model.compile(loss='categorical_crossentropy', optimizer='adam', metrics=['accuracy']) \n",
        "hist = model.fit(X_train, train_encoded, validation_data=(X_test, test_encoded), epochs=10, batch_size=32, verbose=1, callbacks=[checkpoint,early])"
      ],
      "execution_count": 31,
      "outputs": [
        {
          "output_type": "stream",
          "name": "stdout",
          "text": [
            "Epoch 1/10\n",
            "510/510 [==============================] - ETA: 0s - loss: 24.6783 - accuracy: 0.5256\n",
            "Epoch 00001: val_accuracy improved from -inf to 0.60765, saving model to vgg16_1.h5\n",
            "510/510 [==============================] - 136s 266ms/step - loss: 24.6783 - accuracy: 0.5256 - val_loss: 24.5124 - val_accuracy: 0.6077\n",
            "Epoch 2/10\n",
            "510/510 [==============================] - ETA: 0s - loss: 7.4451 - accuracy: 0.8245\n",
            "Epoch 00002: val_accuracy improved from 0.60765 to 0.61550, saving model to vgg16_1.h5\n",
            "510/510 [==============================] - 115s 226ms/step - loss: 7.4451 - accuracy: 0.8245 - val_loss: 28.9301 - val_accuracy: 0.6155\n",
            "Epoch 3/10\n",
            "510/510 [==============================] - ETA: 0s - loss: 4.0717 - accuracy: 0.8911\n",
            "Epoch 00003: val_accuracy improved from 0.61550 to 0.62040, saving model to vgg16_1.h5\n",
            "510/510 [==============================] - 115s 226ms/step - loss: 4.0717 - accuracy: 0.8911 - val_loss: 33.4031 - val_accuracy: 0.6204\n",
            "Epoch 4/10\n",
            "510/510 [==============================] - ETA: 0s - loss: 3.4871 - accuracy: 0.9114\n",
            "Epoch 00004: val_accuracy improved from 0.62040 to 0.62849, saving model to vgg16_1.h5\n",
            "510/510 [==============================] - 115s 226ms/step - loss: 3.4871 - accuracy: 0.9114 - val_loss: 36.4892 - val_accuracy: 0.6285\n",
            "Epoch 5/10\n",
            "510/510 [==============================] - ETA: 0s - loss: 2.9729 - accuracy: 0.9301\n",
            "Epoch 00005: val_accuracy did not improve from 0.62849\n",
            "510/510 [==============================] - 115s 225ms/step - loss: 2.9729 - accuracy: 0.9301 - val_loss: 39.4220 - val_accuracy: 0.6260\n",
            "Epoch 6/10\n",
            "510/510 [==============================] - ETA: 0s - loss: 2.6217 - accuracy: 0.9387\n",
            "Epoch 00006: val_accuracy improved from 0.62849 to 0.63217, saving model to vgg16_1.h5\n",
            "510/510 [==============================] - 115s 225ms/step - loss: 2.6217 - accuracy: 0.9387 - val_loss: 42.6184 - val_accuracy: 0.6322\n",
            "Epoch 7/10\n",
            "510/510 [==============================] - ETA: 0s - loss: 2.3517 - accuracy: 0.9445\n",
            "Epoch 00007: val_accuracy improved from 0.63217 to 0.64983, saving model to vgg16_1.h5\n",
            "510/510 [==============================] - 115s 225ms/step - loss: 2.3517 - accuracy: 0.9445 - val_loss: 43.8888 - val_accuracy: 0.6498\n",
            "Epoch 8/10\n",
            "510/510 [==============================] - ETA: 0s - loss: 2.2428 - accuracy: 0.9501\n",
            "Epoch 00008: val_accuracy did not improve from 0.64983\n",
            "510/510 [==============================] - 115s 225ms/step - loss: 2.2428 - accuracy: 0.9501 - val_loss: 51.9550 - val_accuracy: 0.6339\n",
            "Epoch 9/10\n",
            "510/510 [==============================] - ETA: 0s - loss: 2.0610 - accuracy: 0.9533\n",
            "Epoch 00009: val_accuracy did not improve from 0.64983\n",
            "510/510 [==============================] - 115s 225ms/step - loss: 2.0610 - accuracy: 0.9533 - val_loss: 52.4258 - val_accuracy: 0.6471\n",
            "Epoch 10/10\n",
            "510/510 [==============================] - ETA: 0s - loss: 2.0193 - accuracy: 0.9560\n",
            "Epoch 00010: val_accuracy improved from 0.64983 to 0.65571, saving model to vgg16_1.h5\n",
            "510/510 [==============================] - 115s 226ms/step - loss: 2.0193 - accuracy: 0.9560 - val_loss: 54.5612 - val_accuracy: 0.6557\n"
          ]
        }
      ]
    },
    {
      "cell_type": "code",
      "metadata": {
        "colab": {
          "base_uri": "https://localhost:8080/"
        },
        "id": "6ql4A8qSp8Nz",
        "outputId": "12a4e8a5-98a6-424f-8030-6334808d7c2d"
      },
      "source": [
        "# ########################################################################################################################\n",
        "# #____________________________________________________________Saving The Model___________________________________#\n",
        "# ########################################################################################################################\n",
        "\n",
        "model.save(\"/content/drive/MyDrive/SEM3/CGAS/Project/CGAS_FoodCategorization/vgg16_model.pb\")\n",
        "accuracy = model.evaluate(x=X_test,y=test_encoded,batch_size=256)\n",
        "print(\"Test loss:\",accuracy[0])\n",
        "print(\"Test accuracy: \",accuracy[1])"
      ],
      "execution_count": 33,
      "outputs": [
        {
          "output_type": "stream",
          "name": "stdout",
          "text": [
            "INFO:tensorflow:Assets written to: /content/drive/MyDrive/SEM3/CGAS/Project/CGAS_FoodCategorization/vgg16_model.pb/assets\n",
            "16/16 [==============================] - 22s 1s/step - loss: 54.5612 - accuracy: 0.6557\n",
            "Test loss: 54.56122589111328\n",
            "Test accuracy:  0.6557135581970215\n"
          ]
        }
      ]
    },
    {
      "cell_type": "code",
      "metadata": {
        "colab": {
          "base_uri": "https://localhost:8080/",
          "height": 325
        },
        "id": "ZGpryTT3qCs1",
        "outputId": "78cf5d9d-5c8a-4676-f68f-7173534aa26c"
      },
      "source": [
        "########################################################################################################################\n",
        "#____________________________________________________________Accuracy Plot Of the MOdel___________________________________#\n",
        "########################################################################################################################\n",
        "\n",
        "plt.plot(hist.history['accuracy'])\n",
        "plt.plot(hist.history['val_accuracy'])\n",
        "plt.title('model accuracy')\n",
        "plt.ylabel('accuracy')\n",
        "plt.xlabel('epoch')\n",
        "plt.legend(['train', 'test'], loc='upper left')\n",
        "plt.show()"
      ],
      "execution_count": 34,
      "outputs": [
        {
          "output_type": "display_data",
          "data": {
            "image/png": "[encoded data removed]",
            "text/plain": [
              "<Figure size 432x288 with 1 Axes>"
            ]
          },
          "metadata": {}
        }
      ]
    },
    {
      "cell_type": "code",
      "metadata": {
        "colab": {
          "base_uri": "https://localhost:8080/",
          "height": 325
        },
        "id": "CFmTJYiFqQ0X",
        "outputId": "3adb383e-0ed7-4a9b-b3e9-759d9fcbfa83"
      },
      "source": [
        "########################################################################################################################\n",
        "#____________________________________________________________Loss Plot Of the Model___________________________________#\n",
        "########################################################################################################################\n",
        "\n",
        "plt.plot(hist.history['loss'])\n",
        "plt.plot(hist.history['val_loss'])\n",
        "plt.title('model loss')\n",
        "plt.ylabel('loss')\n",
        "plt.xlabel('epoch')\n",
        "plt.legend(['train', 'test'], loc='upper left')\n",
        "plt.show()"
      ],
      "execution_count": 35,
      "outputs": [
        {
          "output_type": "display_data",
          "data": {
            "image/png": "[encoded data removed]",
            "text/plain": [
              "<Figure size 432x288 with 1 Axes>"
            ]
          },
          "metadata": {}
        }
      ]
    }
  ]
}